{
 "cells": [
  {
   "cell_type": "code",
   "execution_count": 18,
   "metadata": {
    "collapsed": true
   },
   "outputs": [],
   "source": [
    "import json\n",
    "import pandas as pd"
   ]
  },
  {
   "cell_type": "code",
   "execution_count": 48,
   "metadata": {
    "collapsed": false
   },
   "outputs": [
    {
     "name": "stdout",
     "output_type": "stream",
     "text": [
      "3755\n",
      "[u'Food', u'Cafe']\n",
      "[u'category', u'geocode', u'name', u'address', u'_id']\n",
      "{u'lat': 67.333, u'lng': -1.43}\n"
     ]
    }
   ],
   "source": [
    "with open('merchants_data.json','r') as f: \n",
    "    data = json.load(f)\n",
    "print(len(data['results']))\n",
    "merchants = data['results']\n",
    "categories = list(map(lambda x : x[\"category\"],merchants))\n",
    "print(categories[0])\n",
    "print(merchants[0].keys())\n",
    "\n",
    "def extract_error(x):\n",
    "    if x.keys().contains(\"geocode\"):\n",
    "        return x[\"geocode\"]\n",
    "    else:\n",
    "        return []\n",
    "geocodes = list(map(lambda x : extract_error(x),merchants))\n",
    "print(geocodes)"
   ]
  },
  {
   "cell_type": "code",
   "execution_count": null,
   "metadata": {
    "collapsed": true
   },
   "outputs": [],
   "source": []
  }
 ],
 "metadata": {
  "kernelspec": {
   "display_name": "Python 2",
   "language": "python",
   "name": "python2"
  },
  "language_info": {
   "codemirror_mode": {
    "name": "ipython",
    "version": 2
   },
   "file_extension": ".py",
   "mimetype": "text/x-python",
   "name": "python",
   "nbconvert_exporter": "python",
   "pygments_lexer": "ipython2",
   "version": "2.7.10"
  }
 },
 "nbformat": 4,
 "nbformat_minor": 0
}
